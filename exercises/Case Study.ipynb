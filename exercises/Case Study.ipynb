{
 "cells": [
  {
   "cell_type": "code",
   "execution_count": 1,
   "metadata": {},
   "outputs": [],
   "source": [
    "import numpy as np\n",
    "import pandas as pd\n",
    "import nltk\n",
    "import re"
   ]
  },
  {
   "cell_type": "markdown",
   "metadata": {},
   "source": [
    "## 1. Load Data"
   ]
  },
  {
   "cell_type": "code",
   "execution_count": 2,
   "metadata": {},
   "outputs": [],
   "source": [
    "df = pd.read_csv(\"corpus/tennis_articles.csv\")"
   ]
  },
  {
   "cell_type": "code",
   "execution_count": 3,
   "metadata": {},
   "outputs": [
    {
     "data": {
      "text/html": [
       "<div>\n",
       "<style scoped>\n",
       "    .dataframe tbody tr th:only-of-type {\n",
       "        vertical-align: middle;\n",
       "    }\n",
       "\n",
       "    .dataframe tbody tr th {\n",
       "        vertical-align: top;\n",
       "    }\n",
       "\n",
       "    .dataframe thead th {\n",
       "        text-align: right;\n",
       "    }\n",
       "</style>\n",
       "<table border=\"1\" class=\"dataframe\">\n",
       "  <thead>\n",
       "    <tr style=\"text-align: right;\">\n",
       "      <th></th>\n",
       "      <th>article_id</th>\n",
       "      <th>article_text</th>\n",
       "      <th>source</th>\n",
       "    </tr>\n",
       "  </thead>\n",
       "  <tbody>\n",
       "    <tr>\n",
       "      <td>0</td>\n",
       "      <td>1</td>\n",
       "      <td>Maria Sharapova has basically no friends as te...</td>\n",
       "      <td>https://www.tennisworldusa.org/tennis/news/Mar...</td>\n",
       "    </tr>\n",
       "    <tr>\n",
       "      <td>1</td>\n",
       "      <td>2</td>\n",
       "      <td>BASEL, Switzerland (AP), Roger Federer advance...</td>\n",
       "      <td>http://www.tennis.com/pro-game/2018/10/copil-s...</td>\n",
       "    </tr>\n",
       "    <tr>\n",
       "      <td>2</td>\n",
       "      <td>3</td>\n",
       "      <td>Roger Federer has revealed that organisers of ...</td>\n",
       "      <td>https://scroll.in/field/899938/tennis-roger-fe...</td>\n",
       "    </tr>\n",
       "    <tr>\n",
       "      <td>3</td>\n",
       "      <td>4</td>\n",
       "      <td>Kei Nishikori will try to end his long losing ...</td>\n",
       "      <td>http://www.tennis.com/pro-game/2018/10/nishiko...</td>\n",
       "    </tr>\n",
       "    <tr>\n",
       "      <td>4</td>\n",
       "      <td>5</td>\n",
       "      <td>Federer, 37, first broke through on tour over ...</td>\n",
       "      <td>https://www.express.co.uk/sport/tennis/1036101...</td>\n",
       "    </tr>\n",
       "  </tbody>\n",
       "</table>\n",
       "</div>"
      ],
      "text/plain": [
       "   article_id                                       article_text  \\\n",
       "0           1  Maria Sharapova has basically no friends as te...   \n",
       "1           2  BASEL, Switzerland (AP), Roger Federer advance...   \n",
       "2           3  Roger Federer has revealed that organisers of ...   \n",
       "3           4  Kei Nishikori will try to end his long losing ...   \n",
       "4           5  Federer, 37, first broke through on tour over ...   \n",
       "\n",
       "                                              source  \n",
       "0  https://www.tennisworldusa.org/tennis/news/Mar...  \n",
       "1  http://www.tennis.com/pro-game/2018/10/copil-s...  \n",
       "2  https://scroll.in/field/899938/tennis-roger-fe...  \n",
       "3  http://www.tennis.com/pro-game/2018/10/nishiko...  \n",
       "4  https://www.express.co.uk/sport/tennis/1036101...  "
      ]
     },
     "execution_count": 3,
     "metadata": {},
     "output_type": "execute_result"
    }
   ],
   "source": [
    "df.head()"
   ]
  },
  {
   "cell_type": "code",
   "execution_count": 9,
   "metadata": {},
   "outputs": [
    {
     "data": {
      "text/plain": [
       "\"Maria Sharapova has basically no friends as tennis players on the WTA Tour. The Russian player has no problems in openly speaking about it and in a recent interview she said: 'I don't really hide any feelings too much. I think everyone knows this is my job here. When I'm on the courts or when I'm on the court playing, I'm a competitor and I want to beat every single person whether they're in the locker room or across the net.So I'm not the one to strike up a conversation about the weather and know that in the next few minutes I have to go and try to win a tennis match. I'm a pretty competitive girl. I say my hellos, but I'm not sending any players flowers as well. Uhm, I'm not really friendly or close to many players. I have not a lot of friends away from the courts.' When she said she is not really close to a lot of players, is that something strategic that she is doing? Is it different on the men's tour than the women's tour? 'No, not at all. I think just because you're in the same sport doesn't mean that you have to be friends with everyone just because you're categorized, you're a tennis player, so you're going to get along with tennis players. I think every person has different interests. I have friends that have completely different jobs and interests, and I've met them in very different parts of my life. I think everyone just thinks because we're tennis players we should be the greatest of friends. But ultimately tennis is just a very small part of what we do. There are so many other things that we're interested in, that we do.'\""
      ]
     },
     "execution_count": 9,
     "metadata": {},
     "output_type": "execute_result"
    }
   ],
   "source": [
    "df['article_text'][0]"
   ]
  },
  {
   "cell_type": "code",
   "execution_count": 4,
   "metadata": {},
   "outputs": [],
   "source": [
    "from nltk.tokenize import sent_tokenize\n",
    "sentences = []\n",
    "for text in df['article_text']:\n",
    "    sentences += sent_tokenize(text)"
   ]
  },
  {
   "cell_type": "code",
   "execution_count": 6,
   "metadata": {},
   "outputs": [],
   "source": [
    "# sentences"
   ]
  },
  {
   "cell_type": "markdown",
   "metadata": {},
   "source": [
    "## Preprocess Data"
   ]
  },
  {
   "cell_type": "code",
   "execution_count": 7,
   "metadata": {},
   "outputs": [],
   "source": [
    "from nltk.corpus import stopwords\n",
    "from nltk import word_tokenize\n",
    "stop_words = stopwords.words(\"english\")\n",
    "\n",
    "def is_ok(token):\n",
    "    return re.search('^[a-z]+$', token) and token not in stop_words\n",
    "\n",
    "def clean_sentence(sentence):\n",
    "    return [word for word in word_tokenize(sentence.lower()) if is_ok(word)]"
   ]
  },
  {
   "cell_type": "code",
   "execution_count": 8,
   "metadata": {},
   "outputs": [
    {
     "data": {
      "text/plain": [
       "['maria',\n",
       " 'sharapova',\n",
       " 'basically',\n",
       " 'friends',\n",
       " 'tennis',\n",
       " 'players',\n",
       " 'wta',\n",
       " 'tour']"
      ]
     },
     "execution_count": 8,
     "metadata": {},
     "output_type": "execute_result"
    }
   ],
   "source": [
    "clean_sentence(sentences[0])"
   ]
  },
  {
   "cell_type": "code",
   "execution_count": 9,
   "metadata": {},
   "outputs": [],
   "source": [
    "clean_sentences = [clean_sentence(sentence) for sentence in sentences]"
   ]
  },
  {
   "cell_type": "code",
   "execution_count": 11,
   "metadata": {},
   "outputs": [],
   "source": [
    "# clean_sentences"
   ]
  },
  {
   "cell_type": "code",
   "execution_count": 12,
   "metadata": {},
   "outputs": [],
   "source": [
    "from gensim.models import KeyedVectors\n",
    "filename = \"GoogleNews-vectors-negative300.bin\"\n",
    "embedding = KeyedVectors.load_word2vec_format(filename, binary=True)"
   ]
  },
  {
   "cell_type": "code",
   "execution_count": 13,
   "metadata": {},
   "outputs": [
    {
     "data": {
      "text/plain": [
       "array([ 0.32617188,  0.13085938,  0.03466797, -0.08300781,  0.08984375,\n",
       "       -0.04125977, -0.19824219,  0.00689697,  0.14355469,  0.0019455 ,\n",
       "        0.02880859, -0.25      , -0.08398438, -0.15136719, -0.10205078,\n",
       "        0.04077148, -0.09765625,  0.05932617,  0.02978516, -0.10058594,\n",
       "       -0.13085938,  0.001297  ,  0.02612305, -0.27148438,  0.06396484,\n",
       "       -0.19140625, -0.078125  ,  0.25976562,  0.375     , -0.04541016,\n",
       "        0.16210938,  0.13671875, -0.06396484, -0.02062988, -0.09667969,\n",
       "        0.25390625,  0.24804688, -0.12695312,  0.07177734,  0.3203125 ,\n",
       "        0.03149414, -0.03857422,  0.21191406, -0.00811768,  0.22265625,\n",
       "       -0.13476562, -0.07617188,  0.01049805, -0.05175781,  0.03808594,\n",
       "       -0.13378906,  0.125     ,  0.0559082 , -0.18261719,  0.08154297,\n",
       "       -0.08447266, -0.07763672, -0.04345703,  0.08105469, -0.01092529,\n",
       "        0.17480469,  0.30664062, -0.04321289, -0.01416016,  0.09082031,\n",
       "       -0.00927734, -0.03442383, -0.11523438,  0.12451172, -0.0246582 ,\n",
       "        0.08544922,  0.14355469, -0.27734375,  0.03662109, -0.11035156,\n",
       "        0.13085938, -0.01721191, -0.08056641, -0.00708008, -0.02954102,\n",
       "        0.30078125, -0.09033203,  0.03149414, -0.18652344, -0.11181641,\n",
       "        0.10253906, -0.25976562, -0.02209473,  0.16796875, -0.05322266,\n",
       "       -0.14550781, -0.01049805, -0.03039551, -0.03857422,  0.11523438,\n",
       "       -0.0062561 , -0.13964844,  0.08007812,  0.06103516, -0.15332031,\n",
       "       -0.11132812, -0.14160156,  0.19824219, -0.06933594,  0.29296875,\n",
       "       -0.16015625,  0.20898438,  0.00041771,  0.01831055, -0.20214844,\n",
       "        0.04760742,  0.05810547, -0.0123291 , -0.01989746, -0.00364685,\n",
       "       -0.0135498 , -0.08251953, -0.03149414,  0.00717163,  0.20117188,\n",
       "        0.08300781, -0.0480957 , -0.26367188, -0.09667969, -0.22558594,\n",
       "       -0.09667969,  0.06494141, -0.02502441,  0.08496094,  0.03198242,\n",
       "       -0.07568359, -0.25390625, -0.11669922, -0.01446533, -0.16015625,\n",
       "       -0.00701904, -0.05712891,  0.02807617, -0.09179688,  0.25195312,\n",
       "        0.24121094,  0.06640625,  0.12988281,  0.17089844, -0.13671875,\n",
       "        0.1875    , -0.10009766, -0.04199219, -0.12011719,  0.00524902,\n",
       "        0.15625   , -0.203125  , -0.07128906, -0.06103516,  0.01635742,\n",
       "        0.18261719,  0.03588867, -0.04248047,  0.16796875, -0.15039062,\n",
       "       -0.16992188,  0.01831055,  0.27734375, -0.01269531, -0.0390625 ,\n",
       "       -0.15429688,  0.18457031, -0.07910156,  0.09033203, -0.02709961,\n",
       "        0.08251953,  0.06738281, -0.16113281, -0.19628906, -0.15234375,\n",
       "       -0.04711914,  0.04760742,  0.05908203, -0.16894531, -0.14941406,\n",
       "        0.12988281,  0.04321289,  0.02624512, -0.1796875 , -0.19628906,\n",
       "        0.06445312,  0.08935547,  0.1640625 , -0.03808594, -0.09814453,\n",
       "       -0.01483154,  0.1875    ,  0.12792969,  0.22753906,  0.01818848,\n",
       "       -0.07958984, -0.11376953, -0.06933594, -0.15527344, -0.08105469,\n",
       "       -0.09277344, -0.11328125, -0.15136719, -0.08007812, -0.05126953,\n",
       "       -0.15332031,  0.11669922,  0.06835938,  0.0324707 , -0.33984375,\n",
       "       -0.08154297, -0.08349609,  0.04003906,  0.04907227, -0.24121094,\n",
       "       -0.13476562, -0.05932617,  0.12158203, -0.34179688,  0.16503906,\n",
       "        0.06176758, -0.18164062,  0.20117188, -0.07714844,  0.1640625 ,\n",
       "        0.00402832,  0.30273438, -0.10009766, -0.13671875, -0.05957031,\n",
       "        0.0625    , -0.21289062, -0.06542969,  0.1796875 , -0.07763672,\n",
       "       -0.01928711, -0.15039062, -0.00106049,  0.03417969,  0.03344727,\n",
       "        0.19335938,  0.01965332, -0.19921875, -0.10644531,  0.01525879,\n",
       "        0.00927734,  0.01416016, -0.02392578,  0.05883789,  0.02368164,\n",
       "        0.125     ,  0.04760742, -0.05566406,  0.11572266,  0.14746094,\n",
       "        0.1015625 , -0.07128906, -0.07714844, -0.12597656,  0.0291748 ,\n",
       "        0.09521484, -0.12402344, -0.109375  , -0.12890625,  0.16308594,\n",
       "        0.28320312, -0.03149414,  0.12304688, -0.23242188, -0.09375   ,\n",
       "       -0.12988281,  0.0135498 , -0.03881836, -0.08251953,  0.00897217,\n",
       "        0.16308594,  0.10546875, -0.13867188, -0.16503906, -0.03857422,\n",
       "        0.10839844, -0.10498047,  0.06396484,  0.38867188, -0.05981445,\n",
       "       -0.0612793 , -0.10449219, -0.16796875,  0.07177734,  0.13964844,\n",
       "        0.15527344, -0.03125   , -0.20214844, -0.12988281, -0.10058594,\n",
       "       -0.06396484, -0.08349609, -0.30273438, -0.08007812,  0.02099609],\n",
       "      dtype=float32)"
      ]
     },
     "execution_count": 13,
     "metadata": {},
     "output_type": "execute_result"
    }
   ],
   "source": [
    "embedding['man']\n",
    "# np.zeros((300,))"
   ]
  },
  {
   "cell_type": "code",
   "execution_count": 15,
   "metadata": {},
   "outputs": [],
   "source": [
    "def get_word_vector(word):\n",
    "    try:\n",
    "        return embedding[word]\n",
    "    except:\n",
    "        return np.zeros((300,))"
   ]
  },
  {
   "cell_type": "code",
   "execution_count": 18,
   "metadata": {},
   "outputs": [],
   "source": [
    "# get_word_vector('12345')"
   ]
  },
  {
   "cell_type": "code",
   "execution_count": 19,
   "metadata": {},
   "outputs": [],
   "source": [
    "def get_sentence_vector(sentence):\n",
    "    if len(sentence) != 0:\n",
    "        word_vector_sum = sum([get_word_vector(word) for word in sentence])\n",
    "        return word_vector_sum/len(sentence)\n",
    "    return np.zeros((300,))"
   ]
  },
  {
   "cell_type": "code",
   "execution_count": 21,
   "metadata": {},
   "outputs": [],
   "source": [
    "# get_sentence_vector(sentences[0])"
   ]
  },
  {
   "cell_type": "code",
   "execution_count": 22,
   "metadata": {},
   "outputs": [],
   "source": [
    "sentence_vectors = [get_sentence_vector(sentence) for sentence in clean_sentences]"
   ]
  },
  {
   "cell_type": "code",
   "execution_count": 24,
   "metadata": {},
   "outputs": [],
   "source": [
    "# sentence_vectors"
   ]
  },
  {
   "cell_type": "markdown",
   "metadata": {},
   "source": [
    "## Similarity Matrix Preparation"
   ]
  },
  {
   "cell_type": "code",
   "execution_count": 25,
   "metadata": {},
   "outputs": [],
   "source": [
    "from sklearn.metrics.pairwise import cosine_similarity"
   ]
  },
  {
   "cell_type": "code",
   "execution_count": 66,
   "metadata": {},
   "outputs": [],
   "source": [
    "# sentence_vectors[0].reshape(1,-1)"
   ]
  },
  {
   "cell_type": "code",
   "execution_count": 26,
   "metadata": {},
   "outputs": [
    {
     "data": {
      "text/plain": [
       "array([[0.47360238]])"
      ]
     },
     "execution_count": 26,
     "metadata": {},
     "output_type": "execute_result"
    }
   ],
   "source": [
    "cosine_similarity(sentence_vectors[0].reshape(1,-1),sentence_vectors[1].reshape(1,-1))"
   ]
  },
  {
   "cell_type": "code",
   "execution_count": 27,
   "metadata": {},
   "outputs": [],
   "source": [
    "def cal_cos_sim(sentence_vector1, sentence_vector2):\n",
    "    return cosine_similarity(sentence_vector1.reshape(1,-1),sentence_vector2.reshape(1,-1))[0][0]"
   ]
  },
  {
   "cell_type": "code",
   "execution_count": 28,
   "metadata": {},
   "outputs": [
    {
     "data": {
      "text/plain": [
       "0.4736023752140091"
      ]
     },
     "execution_count": 28,
     "metadata": {},
     "output_type": "execute_result"
    }
   ],
   "source": [
    "cal_cos_sim(sentence_vectors[0], sentence_vectors[1])"
   ]
  },
  {
   "cell_type": "code",
   "execution_count": 30,
   "metadata": {},
   "outputs": [],
   "source": [
    "sim_mat = np.zeros([len(sentences), len(sentences)])"
   ]
  },
  {
   "cell_type": "code",
   "execution_count": 31,
   "metadata": {},
   "outputs": [],
   "source": [
    "for i in range(len(sentences)):\n",
    "    for j in range(len(sentences)):\n",
    "        if i != j:\n",
    "            sim_mat[i][j] = cal_cos_sim(sentence_vectors[i], sentence_vectors[j])"
   ]
  },
  {
   "cell_type": "code",
   "execution_count": 32,
   "metadata": {},
   "outputs": [
    {
     "data": {
      "text/plain": [
       "array([[0.        , 0.47360238, 0.39921989, ..., 0.37955435, 0.37587219,\n",
       "        0.33711867],\n",
       "       [0.47360238, 0.        , 0.57306808, ..., 0.39835319, 0.42589647,\n",
       "        0.45716587],\n",
       "       [0.39921989, 0.57306808, 0.        , ..., 0.40601331, 0.3769902 ,\n",
       "        0.48700741],\n",
       "       ...,\n",
       "       [0.37955435, 0.39835319, 0.40601331, ..., 0.        , 0.35059899,\n",
       "        0.43938726],\n",
       "       [0.37587219, 0.42589647, 0.3769902 , ..., 0.35059899, 0.        ,\n",
       "        0.37479851],\n",
       "       [0.33711867, 0.45716587, 0.48700741, ..., 0.43938726, 0.37479851,\n",
       "        0.        ]])"
      ]
     },
     "execution_count": 32,
     "metadata": {},
     "output_type": "execute_result"
    }
   ],
   "source": [
    "sim_mat"
   ]
  },
  {
   "cell_type": "markdown",
   "metadata": {},
   "source": [
    "## Applying PageRank Algorithm"
   ]
  },
  {
   "cell_type": "code",
   "execution_count": 33,
   "metadata": {},
   "outputs": [],
   "source": [
    "import networkx as nx\n",
    "\n",
    "nx_graph = nx.from_numpy_array(sim_mat)\n",
    "scores = nx.pagerank(nx_graph)"
   ]
  },
  {
   "cell_type": "code",
   "execution_count": 34,
   "metadata": {},
   "outputs": [],
   "source": [
    "# scores"
   ]
  },
  {
   "cell_type": "code",
   "execution_count": 35,
   "metadata": {},
   "outputs": [
    {
     "data": {
      "text/plain": [
       "[(0.008430560782176615,\n",
       "  'Maria Sharapova has basically no friends as tennis players on the WTA Tour.'),\n",
       " (0.008277735614673834,\n",
       "  \"The Russian player has no problems in openly speaking about it and in a recent interview she said: 'I don't really hide any feelings too much.\"),\n",
       " (0.008091799925889454, 'I think everyone knows this is my job here.'),\n",
       " (0.010516167119469877,\n",
       "  \"When I'm on the courts or when I'm on the court playing, I'm a competitor and I want to beat every single person whether they're in the locker room or across the net.So I'm not the one to strike up a conversation about the weather and know that in the next few minutes I have to go and try to win a tennis match.\"),\n",
       " (0.007364453945133579, \"I'm a pretty competitive girl.\"),\n",
       " (0.007225629774569331,\n",
       "  \"I say my hellos, but I'm not sending any players flowers as well.\"),\n",
       " (0.009313029709688175,\n",
       "  \"Uhm, I'm not really friendly or close to many players.\"),\n",
       " (0.00750861092265802, \"I have not a lot of friends away from the courts.'\"),\n",
       " (0.008743986485582032,\n",
       "  'When she said she is not really close to a lot of players, is that something strategic that she is doing?'),\n",
       " (0.006067434618312309,\n",
       "  \"Is it different on the men's tour than the women's tour?\"),\n",
       " (0.0012695725958021694, \"'No, not at all.\"),\n",
       " (0.00965128358907486,\n",
       "  \"I think just because you're in the same sport doesn't mean that you have to be friends with everyone just because you're categorized, you're a tennis player, so you're going to get along with tennis players.\"),\n",
       " (0.007677176467976791, 'I think every person has different interests.'),\n",
       " (0.007248400309392584,\n",
       "  \"I have friends that have completely different jobs and interests, and I've met them in very different parts of my life.\"),\n",
       " (0.009122953288482213,\n",
       "  \"I think everyone just thinks because we're tennis players we should be the greatest of friends.\"),\n",
       " (0.007250524865831602,\n",
       "  'But ultimately tennis is just a very small part of what we do.'),\n",
       " (0.006675775566305188,\n",
       "  \"There are so many other things that we're interested in, that we do.'\"),\n",
       " (0.008356257303201496,\n",
       "  'BASEL, Switzerland (AP), Roger Federer advanced to the 14th Swiss Indoors final of his career by beating seventh-seeded Daniil Medvedev 6-1, 6-4 on Saturday.'),\n",
       " (0.009528251301539621,\n",
       "  'Seeking a ninth title at his hometown event, and a 99th overall, Federer will play 93th-ranked Marius Copil on Sunday.'),\n",
       " (0.009351815941825721,\n",
       "  'Federer dominated the 20th-ranked Medvedev and had his first match-point chance to break serve again at 5-1.'),\n",
       " (0.009409080622117033,\n",
       "  \"He then dropped his serve to love, and let another match point slip in Medvedev's next service game by netting a backhand.\"),\n",
       " (0.007002720586184489,\n",
       "  'He clinched on his fourth chance when Medvedev netted from the baseline.'),\n",
       " (0.009110580042277126,\n",
       "  'Copil upset expectations of a Federer final against Alexander Zverev in a 6-3, 6-7 (6), 6-4 win over the fifth-ranked German in the earlier semifinal.'),\n",
       " (0.008922292589275993,\n",
       "  'The Romanian aims for a first title after arriving at Basel without a career win over a top-10 opponent.'),\n",
       " (0.0068874235975135145, 'Copil has two after also beating No.'),\n",
       " (0.00707432069853913, '6 Marin Cilic in the second round.'),\n",
       " (0.008489741917823425,\n",
       "  'Copil fired 26 aces past Zverev and never dropped serve, clinching after 2 1/2 hours with a forehand volley winner to break Zverev for the second time in the semifinal.'),\n",
       " (0.009063418657579744,\n",
       "  \"He came through two rounds of qualifying last weekend to reach the Basel main draw, including beating Zverev's older brother, Mischa.\"),\n",
       " (0.009424516059541988,\n",
       "  'Federer had an easier time than in his only previous match against Medvedev, a three-setter at Shanghai two weeks ago.'),\n",
       " (0.009743588328426908,\n",
       "  'Roger Federer has revealed that organisers of the re-launched and condensed Davis Cup gave him three days to decide if he would commit to the controversial competition.'),\n",
       " (0.010262652786438639,\n",
       "  'Speaking at the Swiss Indoors tournament where he will play in Sundays final against Romanian qualifier Marius Copil, the world number three said that given the impossibly short time frame to make a decision, he opted out of any commitment.'),\n",
       " (0.009350787985871616,\n",
       "  '\"They only left me three days to decide\", Federer said.'),\n",
       " (0.005190865360982488,\n",
       "  '\"I didn\\'t to have time to consult with all the people I had to consult.'),\n",
       " (0.007727888380487001,\n",
       "  '\"I could not make a decision in that time, so I told them to do what they wanted.\"'),\n",
       " (0.008383638454920128,\n",
       "  'The 20-time Grand Slam champion has voiced doubts about the wisdom of the one-week format to be introduced by organisers Kosmos, who have promised the International Tennis Federation up to $3 billion in prize money over the next quarter-century.'),\n",
       " (0.009408312118619604,\n",
       "  'The competition is set to feature 18 countries in the November 18-24 finals in Madrid next year, and will replace the classic home-and-away ties played four times per year for decades.'),\n",
       " (0.009138996744208022,\n",
       "  'Kosmos is headed by Barcelona footballer Gerard Pique, who is hoping fellow Spaniard Rafael Nadal will play in the upcoming event.'),\n",
       " (0.008937704775315646,\n",
       "  \"Novak Djokovic has said he will give precedence to the ATP's intended re-launch of the defunct World Team Cup in January 2020, at various Australian venues.\"),\n",
       " (0.010141756916913726,\n",
       "  'Major players feel that a big event in late November combined with one in January before the Australian Open will mean too much tennis and too little rest.'),\n",
       " (0.0095994836070911,\n",
       "  'Federer said earlier this month in Shanghai in that his chances of playing the Davis Cup were all but non-existent.'),\n",
       " (0.006086554089630639, '\"I highly doubt it, of course.'),\n",
       " (0.007131788540852494, 'We will see what happens,\" he said.'),\n",
       " (0.007308705987253975, '\"I do not think this was designed for me, anyhow.'),\n",
       " (0.005905912352554244,\n",
       "  'This was designed for the future generation of players.\"'),\n",
       " (0.009459359087642095,\n",
       "  'Argentina and Britain received wild cards to the new-look event, and will compete along with the four 2018 semi-finalists and the 12 teams who win qualifying rounds next February.'),\n",
       " (0.008551984266887077,\n",
       "  '\"I don\\'t like being under that kind of pressure,\" Federer said of the deadline Kosmos handed him.'),\n",
       " (0.009957243511860763,\n",
       "  'Kei Nishikori will try to end his long losing streak in ATP finals and Kevin Anderson will go for his second title of the year at the Erste Bank Open on Sunday.'),\n",
       " (0.007221894594160266,\n",
       "  'The fifth-seeded Nishikori reached his third final of 2018 after beating Mikhail Kukushkin of Kazakhstan 6-4, 6-3 in the semifinals.'),\n",
       " (0.007841211805587094,\n",
       "  \"A winner of 11 ATP events, Nishikori hasn't triumphed since winning in Memphis in February 2016.\"),\n",
       " (0.008010935593531072, 'He has lost eight straight finals since.'),\n",
       " (0.006422964138540211,\n",
       "  'The second-seeded Anderson defeated Fernando Verdasco 6-3, 3-6, 6-4.'),\n",
       " (0.008629553631607285,\n",
       "  'Anderson has a shot at a fifth career title and second of the year after winning in New York in February.'),\n",
       " (0.008621968790470209,\n",
       "  'Nishikori leads Anderson 4-2 on career matchups, but the South African won their only previous meeting this year.'),\n",
       " (0.00826345632573217,\n",
       "  'With a victory on Sunday, Anderson will qualify for the ATP Finals.'),\n",
       " (0.009291766713954056,\n",
       "  'Currently in ninth place, Nishikori with a win could move to within 125 points of the cut for the eight-man event in London next month.'),\n",
       " (0.007215592297345659,\n",
       "  'Nishikori held serve throughout against Kukushkin, who came through qualifying.'),\n",
       " (0.009246645584682238,\n",
       "  'He used his first break point to close out the first set before going up 3-0 in the second and wrapping up the win on his first match point.'),\n",
       " (0.00782430011848522,\n",
       "  'Against Verdasco, Anderson hit nine of his 19 aces in the opening set.'),\n",
       " (0.009890859347686694,\n",
       "  \"The Spaniard broke Anderson twice in the second but didn't get another chance on the South African's serve in the final set.\"),\n",
       " (0.009097592033762467,\n",
       "  'Federer, 37, first broke through on tour over two decades ago and he has since gone on to enjoy a glittering career.'),\n",
       " (0.009675806640438003,\n",
       "  'The 20-time Grand Slam winner is chasing his 99th ATP title at the Swiss Indoors this week and he faces Jan-Lennard Struff in the second round on Thursday (6pm BST).'),\n",
       " (0.009833101331593269,\n",
       "  'Davenport enjoyed most of her success in the late 1990s and her third and final major tournament win came at the 2000 Australian Open.'),\n",
       " (0.00838038230732055,\n",
       "  'But she claims the mentality of professional tennis players slowly began to change after the new millennium.'),\n",
       " (0.00837834738540256,\n",
       "  '\"It seems pretty friendly right now,\" said Davenport.'),\n",
       " (0.008883735325811794,\n",
       "  '\"I think there is a really nice environment and a great atmosphere, especially between some of the veteran players helping some of the younger players out.'),\n",
       " (0.0066535641472775095,\n",
       "  '\"It\\'s a very pleasant atmosphere, I\\'d have to say, around the locker rooms.'),\n",
       " (0.010077819273090738,\n",
       "  '\"I felt like the best weeks that I had to get to know players when I was playing were the Fed Cup weeks or the Olympic weeks, not necessarily during the tournaments.'),\n",
       " (0.009208804086838584,\n",
       "  '\"And even though maybe we had smaller teams, I still think we kept to ourselves quite a bit.'),\n",
       " (0.009919643979997398,\n",
       "  '\"Not always, but I really feel like in the mid-2000 years there was a huge shift of the attitudes of the top players and being more friendly and being more giving, and a lot of that had to do with players like Roger coming up.'),\n",
       " (0.00885770935847681,\n",
       "  '\"I just felt like it really kind of changed where people were a little bit, definitely in the 90s, a lot more quiet, into themselves, and then it started to become better.\"'),\n",
       " (0.009876539182875874,\n",
       "  'Meanwhile, Federer is hoping he can improve his service game as he hunts his ninth Swiss Indoors title this week.'),\n",
       " (0.008578304373034336,\n",
       "  '\"I didn\\'t serve very well [against first-round opponent Filip Kranjovic,\" Federer said.'),\n",
       " (0.007923132617542721,\n",
       "  '\"I think I was misfiring the corners, I was not hitting the lines enough.'),\n",
       " (0.009685120611221365,\n",
       "  '\"Clearly you make your life more difficult, but still I was up 6-2, 3-1, break points, so things could have ended very quickly today, even though I didn\\'t have the best serve percentage stats.'),\n",
       " (0.008062585140388089,\n",
       "  '\"But maybe that\\'s exactly what caught up to me eventually.'),\n",
       " (0.006063523365069816, \"It's just getting used to it.\"),\n",
       " (0.007211799576199575, 'This is where the first rounds can be tricky.\"'),\n",
       " (0.00885835541976111,\n",
       "  'Nadal has not played tennis since he was forced to retire from the US Open semi-finals against Juan Martin Del Porto with a knee injury.'),\n",
       " (0.008892666887699156,\n",
       "  \"The world No 1 has been forced to miss Spain's Davis Cup clash with France and the Asian hard court season.\"),\n",
       " (0.00947504288155471,\n",
       "  'But with the ATP World Tour Finals due to begin next month, Nadal is ready to prove his fitness before the season-ending event at the 02 Arena.'),\n",
       " (0.00858296700768653,\n",
       "  'Nadal flew to Paris on Friday and footage from the Paris Masters official Twitter account shows the Spaniard smiling as he strides onto court for practice.'),\n",
       " (0.008568375376275928,\n",
       "  'The Paris Masters draw has been made and Nadal will start his campaign on Tuesday or Wednesday against either Fernando Verdasco or Jeremy Chardy.'),\n",
       " (0.009730246057905938,\n",
       "  'Nadal could then play defending champion Jack Sock in the third round before a potential quarter-final with either Borna Coric or Dominic Thiem.'),\n",
       " (0.009533969642074567,\n",
       "  \"Nadal's appearance in Paris is a big boost to the tournament organisers who could see Roger Federer withdraw.\"),\n",
       " (0.008960594594771077,\n",
       "  'Federer is in action at the Swiss Indoors in Basel and if he reaches the final, he could pull out of Paris in a bid to stay fresh for London.'),\n",
       " (0.009558284279461048,\n",
       "  'But as it stands, Federer is in the draw and is scheduled to face either former world No 3 Milos Raonic or Jo-Wilfried Tsonga in the second round.'),\n",
       " (0.00911426837545355,\n",
       "  \"Federer's projected route to the Paris final could also lead to matches against Kevin Anderson and Novak Djokovic.\"),\n",
       " (0.009451238975652483,\n",
       "  'Djokovic could play Marco Cecchinato in the second round.'),\n",
       " (0.00829165169271052,\n",
       "  'British No 1 Kyle Edmund is the 12th seed in Paris and will get underway in round two against either Karen Khachanov or Filip Krajinovic.'),\n",
       " (0.0065527873789505715, 'Tennis giveth, and tennis taketh away.'),\n",
       " (0.009686647630072983,\n",
       "  'The end of the season is finally in sight, and with so many players defending,or losing,huge chunks of points in Singapore, Zhuhai and London, podcast co-hosts Nina Pantic and Irina Falconi discuss the art of defending points (02:14).'),\n",
       " (0.008045014992431985,\n",
       "  \"It's no secret that Jack Sock has struggled on the singles court this year (his record is 7-19).\"),\n",
       " (0.008347669225477089,\n",
       "  'He could lose 1,400 points in the next few weeks, but instead of focusing on the negative, it can all be about perspective (06:28).'),\n",
       " (0.009267413800252377,\n",
       "  \"Let's also not forget his two Grand Slam doubles triumphs this season.\"),\n",
       " (0.00947787288199061,\n",
       "  'Two players, Stefanos Tsitsipas and Kyle Edmund, won their first career ATP titles last week (13:26).'),\n",
       " (0.008596353081138385,\n",
       "  \"It's a big deal because you never forget your first.\"),\n",
       " (0.008264421933648396,\n",
       "  'Irina looks back at her WTA title win in Bogota in 2016, and tells an unforgettable story about her semifinal drama (14:04).'),\n",
       " (0.008579567398193098,\n",
       "  'In Singapore, one of the biggest storylines (aside from the matches, of course) has been the on-court coaching debate.'),\n",
       " (0.008084851294372423,\n",
       "  'Nina and Irina give their opinions on what coaching should look like in the future, on both tours (18:55).'),\n",
       " (0.009090726972715592,\n",
       "  'Federer won the Swiss Indoors last week by beating Romanian qualifier Marius Copil in the final.'),\n",
       " (0.007541891149135492,\n",
       "  'The 37-year-old claimed his 99th ATP title and is hunting the century in the French capital this week.'),\n",
       " (0.009554356178029888,\n",
       "  'Federer has been handed a difficult draw where could could come across Kevin Anderson, Novak Djokovic and Rafael Nadal in the latter rounds.'),\n",
       " (0.009675671046425466,\n",
       "  'But first the 20-time Grand Slam winner wants to train on the Paris Masters court this afternoon before deciding whether to appear for his opening match against either Milos Raonic or Jo-Wilfried Tsonga.'),\n",
       " (0.009427159705859752,\n",
       "  '\"On Monday, I am free and will look how I feel,\" Federer said after winning the Swiss Indoors.'),\n",
       " (0.008130407517951495,\n",
       "  '\"On Tuesday I will fly to Paris and train in the afternoon to be ready for my first match on Wednesday night.'),\n",
       " (0.008741330038421135, '\"I felt good all week and better every day.'),\n",
       " (0.00936418372682856,\n",
       "  '\"We also had the impression that at this stage it might be better to play matches than to train.'),\n",
       " (0.007664555277469585, '\"And as long as I fear no injury, I play.\"'),\n",
       " (0.009795437197374605,\n",
       "  \"Federer's success in Basel last week was the ninth time he has won his hometown tournament.\"),\n",
       " (0.0067616169323562215,\n",
       "  'And he was delighted to be watched on by all of his family and friends as he purchased 60 tickets for the final for those dearest to him.'),\n",
       " (0.007441286566159026,\n",
       "  '\"My children, my parents, my sister and my team are all there,\" Federer added.'),\n",
       " (0.007034336742162863,\n",
       "  '\"It is always very emotional for me to thank my team.'),\n",
       " (0.0067719789118280095,\n",
       "  'And sometimes it tilts with the emotions, sometimes I just stumble.'),\n",
       " (0.006004967389752623, '\"It means the world to me.'),\n",
       " (0.009428310958775167,\n",
       "  'It makes me incredibly happy to win my home tournament and make people happy here.'),\n",
       " (0.009791605716815437,\n",
       "  '\"I do not know if it\\'s maybe my last title, so today I try a lot more to absorb that and enjoy the moments much more consciously.'),\n",
       " (0.008427749113260058,\n",
       "  '\"Maybe I should celebrate as if it were my last title.'),\n",
       " (0.007039879903510318,\n",
       "  '\"There are very touching moments: seeing the ball children, the standing ovations, all the familiar faces in the audience.'),\n",
       " (0.008200890275116345, 'Because it was not always easy in the last weeks.\"')]"
      ]
     },
     "execution_count": 35,
     "metadata": {},
     "output_type": "execute_result"
    }
   ],
   "source": [
    "sentence_scores = [(scores[i],s) for i,s in enumerate(sentences)]\n",
    "sentence_scores"
   ]
  },
  {
   "cell_type": "code",
   "execution_count": 36,
   "metadata": {},
   "outputs": [
    {
     "data": {
      "text/plain": [
       "[(0.010516167119469877,\n",
       "  \"When I'm on the courts or when I'm on the court playing, I'm a competitor and I want to beat every single person whether they're in the locker room or across the net.So I'm not the one to strike up a conversation about the weather and know that in the next few minutes I have to go and try to win a tennis match.\"),\n",
       " (0.010262652786438639,\n",
       "  'Speaking at the Swiss Indoors tournament where he will play in Sundays final against Romanian qualifier Marius Copil, the world number three said that given the impossibly short time frame to make a decision, he opted out of any commitment.'),\n",
       " (0.010141756916913726,\n",
       "  'Major players feel that a big event in late November combined with one in January before the Australian Open will mean too much tennis and too little rest.'),\n",
       " (0.010077819273090738,\n",
       "  '\"I felt like the best weeks that I had to get to know players when I was playing were the Fed Cup weeks or the Olympic weeks, not necessarily during the tournaments.'),\n",
       " (0.009957243511860763,\n",
       "  'Kei Nishikori will try to end his long losing streak in ATP finals and Kevin Anderson will go for his second title of the year at the Erste Bank Open on Sunday.'),\n",
       " (0.009919643979997398,\n",
       "  '\"Not always, but I really feel like in the mid-2000 years there was a huge shift of the attitudes of the top players and being more friendly and being more giving, and a lot of that had to do with players like Roger coming up.'),\n",
       " (0.009890859347686694,\n",
       "  \"The Spaniard broke Anderson twice in the second but didn't get another chance on the South African's serve in the final set.\"),\n",
       " (0.009876539182875874,\n",
       "  'Meanwhile, Federer is hoping he can improve his service game as he hunts his ninth Swiss Indoors title this week.'),\n",
       " (0.009833101331593269,\n",
       "  'Davenport enjoyed most of her success in the late 1990s and her third and final major tournament win came at the 2000 Australian Open.'),\n",
       " (0.009795437197374605,\n",
       "  \"Federer's success in Basel last week was the ninth time he has won his hometown tournament.\"),\n",
       " (0.009791605716815437,\n",
       "  '\"I do not know if it\\'s maybe my last title, so today I try a lot more to absorb that and enjoy the moments much more consciously.'),\n",
       " (0.009743588328426908,\n",
       "  'Roger Federer has revealed that organisers of the re-launched and condensed Davis Cup gave him three days to decide if he would commit to the controversial competition.'),\n",
       " (0.009730246057905938,\n",
       "  'Nadal could then play defending champion Jack Sock in the third round before a potential quarter-final with either Borna Coric or Dominic Thiem.'),\n",
       " (0.009686647630072983,\n",
       "  'The end of the season is finally in sight, and with so many players defending,or losing,huge chunks of points in Singapore, Zhuhai and London, podcast co-hosts Nina Pantic and Irina Falconi discuss the art of defending points (02:14).'),\n",
       " (0.009685120611221365,\n",
       "  '\"Clearly you make your life more difficult, but still I was up 6-2, 3-1, break points, so things could have ended very quickly today, even though I didn\\'t have the best serve percentage stats.'),\n",
       " (0.009675806640438003,\n",
       "  'The 20-time Grand Slam winner is chasing his 99th ATP title at the Swiss Indoors this week and he faces Jan-Lennard Struff in the second round on Thursday (6pm BST).'),\n",
       " (0.009675671046425466,\n",
       "  'But first the 20-time Grand Slam winner wants to train on the Paris Masters court this afternoon before deciding whether to appear for his opening match against either Milos Raonic or Jo-Wilfried Tsonga.'),\n",
       " (0.00965128358907486,\n",
       "  \"I think just because you're in the same sport doesn't mean that you have to be friends with everyone just because you're categorized, you're a tennis player, so you're going to get along with tennis players.\"),\n",
       " (0.0095994836070911,\n",
       "  'Federer said earlier this month in Shanghai in that his chances of playing the Davis Cup were all but non-existent.'),\n",
       " (0.009558284279461048,\n",
       "  'But as it stands, Federer is in the draw and is scheduled to face either former world No 3 Milos Raonic or Jo-Wilfried Tsonga in the second round.'),\n",
       " (0.009554356178029888,\n",
       "  'Federer has been handed a difficult draw where could could come across Kevin Anderson, Novak Djokovic and Rafael Nadal in the latter rounds.'),\n",
       " (0.009533969642074567,\n",
       "  \"Nadal's appearance in Paris is a big boost to the tournament organisers who could see Roger Federer withdraw.\"),\n",
       " (0.009528251301539621,\n",
       "  'Seeking a ninth title at his hometown event, and a 99th overall, Federer will play 93th-ranked Marius Copil on Sunday.'),\n",
       " (0.00947787288199061,\n",
       "  'Two players, Stefanos Tsitsipas and Kyle Edmund, won their first career ATP titles last week (13:26).'),\n",
       " (0.00947504288155471,\n",
       "  'But with the ATP World Tour Finals due to begin next month, Nadal is ready to prove his fitness before the season-ending event at the 02 Arena.'),\n",
       " (0.009459359087642095,\n",
       "  'Argentina and Britain received wild cards to the new-look event, and will compete along with the four 2018 semi-finalists and the 12 teams who win qualifying rounds next February.'),\n",
       " (0.009451238975652483,\n",
       "  'Djokovic could play Marco Cecchinato in the second round.'),\n",
       " (0.009428310958775167,\n",
       "  'It makes me incredibly happy to win my home tournament and make people happy here.'),\n",
       " (0.009427159705859752,\n",
       "  '\"On Monday, I am free and will look how I feel,\" Federer said after winning the Swiss Indoors.'),\n",
       " (0.009424516059541988,\n",
       "  'Federer had an easier time than in his only previous match against Medvedev, a three-setter at Shanghai two weeks ago.'),\n",
       " (0.009409080622117033,\n",
       "  \"He then dropped his serve to love, and let another match point slip in Medvedev's next service game by netting a backhand.\"),\n",
       " (0.009408312118619604,\n",
       "  'The competition is set to feature 18 countries in the November 18-24 finals in Madrid next year, and will replace the classic home-and-away ties played four times per year for decades.'),\n",
       " (0.00936418372682856,\n",
       "  '\"We also had the impression that at this stage it might be better to play matches than to train.'),\n",
       " (0.009351815941825721,\n",
       "  'Federer dominated the 20th-ranked Medvedev and had his first match-point chance to break serve again at 5-1.'),\n",
       " (0.009350787985871616,\n",
       "  '\"They only left me three days to decide\", Federer said.'),\n",
       " (0.009313029709688175,\n",
       "  \"Uhm, I'm not really friendly or close to many players.\"),\n",
       " (0.009291766713954056,\n",
       "  'Currently in ninth place, Nishikori with a win could move to within 125 points of the cut for the eight-man event in London next month.'),\n",
       " (0.009267413800252377,\n",
       "  \"Let's also not forget his two Grand Slam doubles triumphs this season.\"),\n",
       " (0.009246645584682238,\n",
       "  'He used his first break point to close out the first set before going up 3-0 in the second and wrapping up the win on his first match point.'),\n",
       " (0.009208804086838584,\n",
       "  '\"And even though maybe we had smaller teams, I still think we kept to ourselves quite a bit.'),\n",
       " (0.009138996744208022,\n",
       "  'Kosmos is headed by Barcelona footballer Gerard Pique, who is hoping fellow Spaniard Rafael Nadal will play in the upcoming event.'),\n",
       " (0.009122953288482213,\n",
       "  \"I think everyone just thinks because we're tennis players we should be the greatest of friends.\"),\n",
       " (0.00911426837545355,\n",
       "  \"Federer's projected route to the Paris final could also lead to matches against Kevin Anderson and Novak Djokovic.\"),\n",
       " (0.009110580042277126,\n",
       "  'Copil upset expectations of a Federer final against Alexander Zverev in a 6-3, 6-7 (6), 6-4 win over the fifth-ranked German in the earlier semifinal.'),\n",
       " (0.009097592033762467,\n",
       "  'Federer, 37, first broke through on tour over two decades ago and he has since gone on to enjoy a glittering career.'),\n",
       " (0.009090726972715592,\n",
       "  'Federer won the Swiss Indoors last week by beating Romanian qualifier Marius Copil in the final.'),\n",
       " (0.009063418657579744,\n",
       "  \"He came through two rounds of qualifying last weekend to reach the Basel main draw, including beating Zverev's older brother, Mischa.\"),\n",
       " (0.008960594594771077,\n",
       "  'Federer is in action at the Swiss Indoors in Basel and if he reaches the final, he could pull out of Paris in a bid to stay fresh for London.'),\n",
       " (0.008937704775315646,\n",
       "  \"Novak Djokovic has said he will give precedence to the ATP's intended re-launch of the defunct World Team Cup in January 2020, at various Australian venues.\"),\n",
       " (0.008922292589275993,\n",
       "  'The Romanian aims for a first title after arriving at Basel without a career win over a top-10 opponent.'),\n",
       " (0.008892666887699156,\n",
       "  \"The world No 1 has been forced to miss Spain's Davis Cup clash with France and the Asian hard court season.\"),\n",
       " (0.008883735325811794,\n",
       "  '\"I think there is a really nice environment and a great atmosphere, especially between some of the veteran players helping some of the younger players out.'),\n",
       " (0.00885835541976111,\n",
       "  'Nadal has not played tennis since he was forced to retire from the US Open semi-finals against Juan Martin Del Porto with a knee injury.'),\n",
       " (0.00885770935847681,\n",
       "  '\"I just felt like it really kind of changed where people were a little bit, definitely in the 90s, a lot more quiet, into themselves, and then it started to become better.\"'),\n",
       " (0.008743986485582032,\n",
       "  'When she said she is not really close to a lot of players, is that something strategic that she is doing?'),\n",
       " (0.008741330038421135, '\"I felt good all week and better every day.'),\n",
       " (0.008629553631607285,\n",
       "  'Anderson has a shot at a fifth career title and second of the year after winning in New York in February.'),\n",
       " (0.008621968790470209,\n",
       "  'Nishikori leads Anderson 4-2 on career matchups, but the South African won their only previous meeting this year.'),\n",
       " (0.008596353081138385,\n",
       "  \"It's a big deal because you never forget your first.\"),\n",
       " (0.00858296700768653,\n",
       "  'Nadal flew to Paris on Friday and footage from the Paris Masters official Twitter account shows the Spaniard smiling as he strides onto court for practice.'),\n",
       " (0.008579567398193098,\n",
       "  'In Singapore, one of the biggest storylines (aside from the matches, of course) has been the on-court coaching debate.'),\n",
       " (0.008578304373034336,\n",
       "  '\"I didn\\'t serve very well [against first-round opponent Filip Kranjovic,\" Federer said.'),\n",
       " (0.008568375376275928,\n",
       "  'The Paris Masters draw has been made and Nadal will start his campaign on Tuesday or Wednesday against either Fernando Verdasco or Jeremy Chardy.'),\n",
       " (0.008551984266887077,\n",
       "  '\"I don\\'t like being under that kind of pressure,\" Federer said of the deadline Kosmos handed him.'),\n",
       " (0.008489741917823425,\n",
       "  'Copil fired 26 aces past Zverev and never dropped serve, clinching after 2 1/2 hours with a forehand volley winner to break Zverev for the second time in the semifinal.'),\n",
       " (0.008430560782176615,\n",
       "  'Maria Sharapova has basically no friends as tennis players on the WTA Tour.'),\n",
       " (0.008427749113260058,\n",
       "  '\"Maybe I should celebrate as if it were my last title.'),\n",
       " (0.008383638454920128,\n",
       "  'The 20-time Grand Slam champion has voiced doubts about the wisdom of the one-week format to be introduced by organisers Kosmos, who have promised the International Tennis Federation up to $3 billion in prize money over the next quarter-century.'),\n",
       " (0.00838038230732055,\n",
       "  'But she claims the mentality of professional tennis players slowly began to change after the new millennium.'),\n",
       " (0.00837834738540256,\n",
       "  '\"It seems pretty friendly right now,\" said Davenport.'),\n",
       " (0.008356257303201496,\n",
       "  'BASEL, Switzerland (AP), Roger Federer advanced to the 14th Swiss Indoors final of his career by beating seventh-seeded Daniil Medvedev 6-1, 6-4 on Saturday.'),\n",
       " (0.008347669225477089,\n",
       "  'He could lose 1,400 points in the next few weeks, but instead of focusing on the negative, it can all be about perspective (06:28).'),\n",
       " (0.00829165169271052,\n",
       "  'British No 1 Kyle Edmund is the 12th seed in Paris and will get underway in round two against either Karen Khachanov or Filip Krajinovic.'),\n",
       " (0.008277735614673834,\n",
       "  \"The Russian player has no problems in openly speaking about it and in a recent interview she said: 'I don't really hide any feelings too much.\"),\n",
       " (0.008264421933648396,\n",
       "  'Irina looks back at her WTA title win in Bogota in 2016, and tells an unforgettable story about her semifinal drama (14:04).'),\n",
       " (0.00826345632573217,\n",
       "  'With a victory on Sunday, Anderson will qualify for the ATP Finals.'),\n",
       " (0.008200890275116345, 'Because it was not always easy in the last weeks.\"'),\n",
       " (0.008130407517951495,\n",
       "  '\"On Tuesday I will fly to Paris and train in the afternoon to be ready for my first match on Wednesday night.'),\n",
       " (0.008091799925889454, 'I think everyone knows this is my job here.'),\n",
       " (0.008084851294372423,\n",
       "  'Nina and Irina give their opinions on what coaching should look like in the future, on both tours (18:55).'),\n",
       " (0.008062585140388089,\n",
       "  '\"But maybe that\\'s exactly what caught up to me eventually.'),\n",
       " (0.008045014992431985,\n",
       "  \"It's no secret that Jack Sock has struggled on the singles court this year (his record is 7-19).\"),\n",
       " (0.008010935593531072, 'He has lost eight straight finals since.'),\n",
       " (0.007923132617542721,\n",
       "  '\"I think I was misfiring the corners, I was not hitting the lines enough.'),\n",
       " (0.007841211805587094,\n",
       "  \"A winner of 11 ATP events, Nishikori hasn't triumphed since winning in Memphis in February 2016.\"),\n",
       " (0.00782430011848522,\n",
       "  'Against Verdasco, Anderson hit nine of his 19 aces in the opening set.'),\n",
       " (0.007727888380487001,\n",
       "  '\"I could not make a decision in that time, so I told them to do what they wanted.\"'),\n",
       " (0.007677176467976791, 'I think every person has different interests.'),\n",
       " (0.007664555277469585, '\"And as long as I fear no injury, I play.\"'),\n",
       " (0.007541891149135492,\n",
       "  'The 37-year-old claimed his 99th ATP title and is hunting the century in the French capital this week.'),\n",
       " (0.00750861092265802, \"I have not a lot of friends away from the courts.'\"),\n",
       " (0.007441286566159026,\n",
       "  '\"My children, my parents, my sister and my team are all there,\" Federer added.'),\n",
       " (0.007364453945133579, \"I'm a pretty competitive girl.\"),\n",
       " (0.007308705987253975, '\"I do not think this was designed for me, anyhow.'),\n",
       " (0.007250524865831602,\n",
       "  'But ultimately tennis is just a very small part of what we do.'),\n",
       " (0.007248400309392584,\n",
       "  \"I have friends that have completely different jobs and interests, and I've met them in very different parts of my life.\"),\n",
       " (0.007225629774569331,\n",
       "  \"I say my hellos, but I'm not sending any players flowers as well.\"),\n",
       " (0.007221894594160266,\n",
       "  'The fifth-seeded Nishikori reached his third final of 2018 after beating Mikhail Kukushkin of Kazakhstan 6-4, 6-3 in the semifinals.'),\n",
       " (0.007215592297345659,\n",
       "  'Nishikori held serve throughout against Kukushkin, who came through qualifying.'),\n",
       " (0.007211799576199575, 'This is where the first rounds can be tricky.\"'),\n",
       " (0.007131788540852494, 'We will see what happens,\" he said.'),\n",
       " (0.00707432069853913, '6 Marin Cilic in the second round.'),\n",
       " (0.007039879903510318,\n",
       "  '\"There are very touching moments: seeing the ball children, the standing ovations, all the familiar faces in the audience.'),\n",
       " (0.007034336742162863,\n",
       "  '\"It is always very emotional for me to thank my team.'),\n",
       " (0.007002720586184489,\n",
       "  'He clinched on his fourth chance when Medvedev netted from the baseline.'),\n",
       " (0.0068874235975135145, 'Copil has two after also beating No.'),\n",
       " (0.0067719789118280095,\n",
       "  'And sometimes it tilts with the emotions, sometimes I just stumble.'),\n",
       " (0.0067616169323562215,\n",
       "  'And he was delighted to be watched on by all of his family and friends as he purchased 60 tickets for the final for those dearest to him.'),\n",
       " (0.006675775566305188,\n",
       "  \"There are so many other things that we're interested in, that we do.'\"),\n",
       " (0.0066535641472775095,\n",
       "  '\"It\\'s a very pleasant atmosphere, I\\'d have to say, around the locker rooms.'),\n",
       " (0.0065527873789505715, 'Tennis giveth, and tennis taketh away.'),\n",
       " (0.006422964138540211,\n",
       "  'The second-seeded Anderson defeated Fernando Verdasco 6-3, 3-6, 6-4.'),\n",
       " (0.006086554089630639, '\"I highly doubt it, of course.'),\n",
       " (0.006067434618312309,\n",
       "  \"Is it different on the men's tour than the women's tour?\"),\n",
       " (0.006063523365069816, \"It's just getting used to it.\"),\n",
       " (0.006004967389752623, '\"It means the world to me.'),\n",
       " (0.005905912352554244,\n",
       "  'This was designed for the future generation of players.\"'),\n",
       " (0.005190865360982488,\n",
       "  '\"I didn\\'t to have time to consult with all the people I had to consult.'),\n",
       " (0.0012695725958021694, \"'No, not at all.\")]"
      ]
     },
     "execution_count": 36,
     "metadata": {},
     "output_type": "execute_result"
    }
   ],
   "source": [
    "ranked_sentences = sorted(sentence_scores, reverse=True)\n",
    "ranked_sentences"
   ]
  },
  {
   "cell_type": "code",
   "execution_count": 37,
   "metadata": {},
   "outputs": [
    {
     "name": "stdout",
     "output_type": "stream",
     "text": [
      "When I'm on the courts or when I'm on the court playing, I'm a competitor and I want to beat every single person whether they're in the locker room or across the net.So I'm not the one to strike up a conversation about the weather and know that in the next few minutes I have to go and try to win a tennis match.\n",
      "Speaking at the Swiss Indoors tournament where he will play in Sundays final against Romanian qualifier Marius Copil, the world number three said that given the impossibly short time frame to make a decision, he opted out of any commitment.\n",
      "Major players feel that a big event in late November combined with one in January before the Australian Open will mean too much tennis and too little rest.\n",
      "\"I felt like the best weeks that I had to get to know players when I was playing were the Fed Cup weeks or the Olympic weeks, not necessarily during the tournaments.\n",
      "Kei Nishikori will try to end his long losing streak in ATP finals and Kevin Anderson will go for his second title of the year at the Erste Bank Open on Sunday.\n",
      "\"Not always, but I really feel like in the mid-2000 years there was a huge shift of the attitudes of the top players and being more friendly and being more giving, and a lot of that had to do with players like Roger coming up.\n",
      "The Spaniard broke Anderson twice in the second but didn't get another chance on the South African's serve in the final set.\n",
      "Meanwhile, Federer is hoping he can improve his service game as he hunts his ninth Swiss Indoors title this week.\n",
      "Davenport enjoyed most of her success in the late 1990s and her third and final major tournament win came at the 2000 Australian Open.\n",
      "Federer's success in Basel last week was the ninth time he has won his hometown tournament.\n"
     ]
    }
   ],
   "source": [
    "for i in range(10):\n",
    "    print(ranked_sentences[i][1])"
   ]
  },
  {
   "cell_type": "code",
   "execution_count": null,
   "metadata": {},
   "outputs": [],
   "source": []
  }
 ],
 "metadata": {
  "kernelspec": {
   "display_name": "Python 3.7.0",
   "language": "python",
   "name": "python3"
  },
  "language_info": {
   "codemirror_mode": {
    "name": "ipython",
    "version": 3
   },
   "file_extension": ".py",
   "mimetype": "text/x-python",
   "name": "python",
   "nbconvert_exporter": "python",
   "pygments_lexer": "ipython3",
   "version": "3.7.0"
  }
 },
 "nbformat": 4,
 "nbformat_minor": 2
}
